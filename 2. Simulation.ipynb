{
 "cells": [
  {
   "cell_type": "markdown",
   "metadata": {},
   "source": [
    "# シミュレーション\n",
    "## 決定論的なシミュレーション\n",
    "\n",
    "### 12星座占いの順位\n",
    "\n",
    "1位の星座がどのように順位が変わるか求めよ"
   ]
  },
  {
   "cell_type": "code",
   "execution_count": null,
   "metadata": {
    "collapsed": true
   },
   "outputs": [],
   "source": [
    "%matplotlib inline\n",
    "import re, pandas as pd, matplotlib.pyplot as plt\n",
    "from itertools import accumulate\n",
    "from answer import answer"
   ]
  },
  {
   "cell_type": "code",
   "execution_count": null,
   "metadata": {
    "collapsed": false,
    "scrolled": true
   },
   "outputs": [],
   "source": [
    "a = pd.DataFrame([s.split(',') for s in re.split('[\\n/]', \"\"\"\\\n",
    "0,30,2,0,0,0,1,7,8,3,5,4/2,0,30,0,0,0,8,2,11,0,4,3/30,2,0,0,0,0,5,8,2,5,3,5\n",
    "0,0,0,0,30,2,6,4,1,1,7,9/0,0,0,2,0,30,4,5,2,10,0,7/0,0,0,30,2,0,4,2,4,9,9,0\n",
    "2,6,6,5,3,6,0,24,3,1,4,0/4,3,4,6,6,5,5,0,17,4,2,4/4,2,1,3,8,10,18,1,0,9,1,3\n",
    "7,5,8,4,2,2,6,0,1,0,20,5/7,5,4,5,3,4,0,5,6,1,0,20/4,7,5,5,6,1,3,2,5,17,5,0\"\"\")], dtype=int)\n",
    "a"
   ]
  },
  {
   "cell_type": "code",
   "execution_count": null,
   "metadata": {
    "collapsed": false
   },
   "outputs": [],
   "source": [
    "s = np.array([1] + [0]*11)\n",
    "b = pd.DataFrame(list(accumulate([s]+[a.values]*10, lambda s, m: s@m/60)),\n",
    "    columns=['%d位'%i for i in range(1, 13)])\n",
    "b.plot.area(stacked=True)\n",
    "plt.xlabel('第 t 日')\n",
    "plt.ylabel('状態分布(確率)')\n",
    "plt.ylim((0, 1))\n",
    "plt.legend(bbox_to_anchor=(1.05, 1), loc='upper left', borderaxespad=0);"
   ]
  }
 ],
 "metadata": {
  "kernelspec": {
   "display_name": "Python [Root]",
   "language": "python",
   "name": "Python [Root]"
  },
  "language_info": {
   "codemirror_mode": {
    "name": "ipython",
    "version": 3
   },
   "file_extension": ".py",
   "mimetype": "text/x-python",
   "name": "python",
   "nbconvert_exporter": "python",
   "pygments_lexer": "ipython3",
   "version": "3.5.2"
  },
  "nav_menu": {},
  "toc": {
   "navigate_menu": true,
   "number_sections": true,
   "sideBar": true,
   "threshold": 6,
   "toc_cell": false,
   "toc_section_display": "block",
   "toc_window_display": false
  }
 },
 "nbformat": 4,
 "nbformat_minor": 0
}
