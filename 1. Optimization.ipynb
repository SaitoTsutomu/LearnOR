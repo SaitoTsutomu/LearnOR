{
 "cells": [
  {
   "cell_type": "markdown",
   "metadata": {},
   "source": [
    "# 数理最適化\n",
    "\n",
    "## モデリングと定式化\n",
    "\n",
    "### 生産計画問題 - 線形最適化 -\n",
    "**2製品の生産計画**\n",
    "- 合金A,Bの生産時間を決定したい→ 変数\n",
    "- 利益を最大化したい → 目的関数\n",
    "- 生産時間の合計は40時間以下 → 制約\n",
    "- 各合金の生産上限を満たす → 制約\n",
    "\n",
    "合金|生産効率<br />[トン/時間]|利益<br />[万円/トン]|生産上限<br />[トン]\n",
    ":--|--:|--:|--:\n",
    "A|2|9|50\n",
    "B|1|11|25"
   ]
  },
  {
   "cell_type": "code",
   "execution_count": null,
   "metadata": {
    "collapsed": false
   },
   "outputs": [],
   "source": [
    "%matplotlib inline\n",
    "import re, numpy as np, pandas as pd\n",
    "from scipy.optimize import minimize\n",
    "from collections import OrderedDict\n",
    "from pulp import *\n",
    "from ortoolpy import addvar, addvars\n",
    "from answer import answer"
   ]
  },
  {
   "cell_type": "code",
   "execution_count": null,
   "metadata": {
    "collapsed": false
   },
   "outputs": [],
   "source": [
    "a = pd.DataFrame(OrderedDict([\n",
    "        ('合金',     ['A', 'B']),\n",
    "        ('生産効率', [2, 1]),  # [トン/時間]\n",
    "        ('利益',     [9, 11]), # [万円/トン]\n",
    "        ('生産上限', [50, 25]),# [トン]\n",
    "        ('Var', addvars(2)),   # [時間]\n",
    "    ]))\n",
    "a"
   ]
  },
  {
   "cell_type": "code",
   "execution_count": null,
   "metadata": {
    "collapsed": false
   },
   "outputs": [],
   "source": [
    "m = LpProblem(sense=LpMaximize)\n",
    "m += lpDot(a.生産効率 * a.利益, a.Var)\n",
    "m += lpSum(a.Var) <= 40\n",
    "for _, r in a.iterrows():\n",
    "    m += r.生産効率 * r.Var <= r.生産上限\n",
    "m.solve()\n",
    "a['Val'] = a.Var.apply(value)\n",
    "a.Val"
   ]
  },
  {
   "cell_type": "markdown",
   "metadata": {
    "collapsed": true
   },
   "source": [
    "### 輸送問題 - ネットワーク型LP -\n",
    "**ソナパニック者の輸送計画**\n",
    "\n",
    "- 倉庫群から工場群への輸送量を決めたい → 変数\n",
    "- 輸送コストを最小化したい → 目的関数\n",
    "- 倉庫からの搬出は、供給可能量以下 → 制約\n",
    "- 工場への搬入は、需要量以上 → 制約\n",
    "\n",
    "<table>\n",
    "<tr><td rowspan=\"2\" colspan=\"2\">輸送費</td><td colspan=\"4\">組み立て工場</td></tr>\n",
    "<tr><td>T1</td><td>T2</td><td>T3</td><td>T4</td><td>供給</td></tr>\n",
    "<tr><td rowspan=\"3\">倉庫</td><td>A</td><td>40</td><td>48</td><td>21</td><td>15</td><td>25</td></tr>\n",
    "<tr><td>B</td><td>52</td><td>35</td><td>45</td><td>60</td><td>35</td></tr>\n",
    "<tr><td>C</td><td>25</td><td>43</td><td>70</td><td>85</td><td>40</td></tr>\n",
    "<tr><td></td><td>需要</td><td>15</td><td>20</td><td>35</td><td>30</td></tr>\n",
    "</table>\n",
    "\n"
   ]
  },
  {
   "cell_type": "code",
   "execution_count": null,
   "metadata": {
    "collapsed": false
   },
   "outputs": [],
   "source": [
    "供給 = {'A': 25, 'B': 35, 'C':40}\n",
    "需要 = {'T1': 15, 'T2': 20, 'T3': 35, 'T4': 30}\n",
    "a = pd.DataFrame([(i, j) for i in ['A', 'B', 'C']\n",
    "                 for j in ['T1', 'T2', 'T3', 'T4']], columns=['倉庫', '工場'])\n",
    "a['輸送費'] = [40,48,21,15,52,35,45,60,25,43,70,85]\n",
    "a['Var'] = addvars(len(a))\n",
    "a"
   ]
  },
  {
   "cell_type": "code",
   "execution_count": null,
   "metadata": {
    "collapsed": true
   },
   "outputs": [],
   "source": [
    "# ここに回答を作成"
   ]
  },
  {
   "cell_type": "code",
   "execution_count": null,
   "metadata": {
    "collapsed": false
   },
   "outputs": [],
   "source": [
    "answer('1.1.2')"
   ]
  },
  {
   "cell_type": "markdown",
   "metadata": {},
   "source": [
    "### 研究室配属問題\n",
    "\n",
    "- 25人の学生が5つの研究室への希望度(0-100)を出している\n",
    "- 各研究室に5人ずつ配属される\n",
    "- 配属された学生の希望度の総和を最大化せよ"
   ]
  },
  {
   "cell_type": "code",
   "execution_count": null,
   "metadata": {
    "collapsed": false,
    "scrolled": true
   },
   "outputs": [],
   "source": [
    "nn = [[int(i) for i in s.split(',')] for s in re.split('[\\n/]', \"\"\"\\\n",
    "0,100,80,0,50/100,100,0,0,0/0,0,100,0,0/40,50,30,80,100/40,0,100,100,0\n",
    "0,0,60,100,70/0,100,100,0,0/30,20,59,100,50/10,10,100,60,60/0,0,100,100,0\n",
    "0,0,0,100,100/20,50,100,0,0/100,0,0,0,0/40,30,30,30,100/25,0,70,70,100\n",
    "0,0,100,100,100/100,100,100,100,100/0,0,100,0,0/10,30,80,80,100/0,0,100,100,0\n",
    "0,0,60,100,100/0,0,0,50,100/0,100,0,100,0/0,0,90,90,100/20,20,20,100,20\"\"\")]\n",
    "a = pd.DataFrame([(i, j, k) for i, n in enumerate(nn)\n",
    "    for j, k in enumerate(n)], columns=['学生', '研究室', '希望度'])\n",
    "n学生 = len(nn)\n",
    "a[:3]"
   ]
  },
  {
   "cell_type": "code",
   "execution_count": null,
   "metadata": {
    "collapsed": true
   },
   "outputs": [],
   "source": [
    "# ここに回答を作成"
   ]
  },
  {
   "cell_type": "code",
   "execution_count": null,
   "metadata": {
    "collapsed": false
   },
   "outputs": [],
   "source": [
    "answer('1.1.3')"
   ]
  },
  {
   "cell_type": "markdown",
   "metadata": {},
   "source": [
    "### ナップサック問題 - 0-1整数最適化 -\n",
    "**海梨市のプロジェクト**\n",
    "\n",
    "- 費用が2000万円以下で、便益の総和が最大になるように企画を選択せよ\n",
    "\n",
    "企画|A|B|C|D|E|F|G|H|I|J\n",
    ":--|--:|--:|--:|--:|--:|--:|--:|--:|--:|--:\n",
    "便益|4|5|3|6|13|23|11|7|15|9\n",
    "費用|3|4|2|5|10|15|6|4|13|7"
   ]
  },
  {
   "cell_type": "code",
   "execution_count": null,
   "metadata": {
    "collapsed": false
   },
   "outputs": [],
   "source": [
    "a = pd.DataFrame({\n",
    "        '便益': [4, 5, 3, 6, 13, 23, 11, 7, 15, 9],\n",
    "        '費用': [3, 4, 2, 5, 10, 15, 6, 4, 13, 7]\n",
    "    })\n",
    "a[:3]"
   ]
  },
  {
   "cell_type": "code",
   "execution_count": null,
   "metadata": {
    "collapsed": true
   },
   "outputs": [],
   "source": [
    "# ここに回答を作成"
   ]
  },
  {
   "cell_type": "code",
   "execution_count": null,
   "metadata": {
    "collapsed": false,
    "scrolled": true
   },
   "outputs": [],
   "source": [
    "answer('1.1.4')"
   ]
  },
  {
   "cell_type": "markdown",
   "metadata": {},
   "source": [
    "### おせち受注問題 - 混合整数最適化 -\n",
    "- 3つの店舗に合計15個のおせちを発注したい\n",
    "- ある店舗に1つ以上発注する場合、固定費用がかかる\n",
    "- 利益を最大にするには、各々何個ずつ発注すればよいか\n",
    "\n",
    "|A|B|C\n",
    ":--|--:|--:|--:\n",
    "固定費用|10|50|6\n",
    "1個当たり利益|6.5|18|4\n",
    "上限|8|6|20"
   ]
  },
  {
   "cell_type": "code",
   "execution_count": null,
   "metadata": {
    "collapsed": false,
    "scrolled": true
   },
   "outputs": [],
   "source": [
    "a = pd.DataFrame(OrderedDict([\n",
    "        ('固定費用', [10, 50, 6]),\n",
    "        ('利益', [6.5, 18, 4]),\n",
    "        ('上限', [8, 6, 20]),\n",
    "    ]), index=['A', 'B', 'C'])\n",
    "a"
   ]
  },
  {
   "cell_type": "code",
   "execution_count": null,
   "metadata": {
    "collapsed": true
   },
   "outputs": [],
   "source": [
    "# ここに回答を作成"
   ]
  },
  {
   "cell_type": "code",
   "execution_count": null,
   "metadata": {
    "collapsed": false,
    "scrolled": true
   },
   "outputs": [],
   "source": [
    "answer('1.1.5')"
   ]
  },
  {
   "cell_type": "markdown",
   "metadata": {},
   "source": [
    "### おせち問題再考\n",
    "- 最大と最小の差が2以下になるようにせよ"
   ]
  },
  {
   "cell_type": "code",
   "execution_count": null,
   "metadata": {
    "collapsed": true
   },
   "outputs": [],
   "source": [
    "# ここに回答を作成"
   ]
  },
  {
   "cell_type": "code",
   "execution_count": null,
   "metadata": {
    "collapsed": false,
    "scrolled": false
   },
   "outputs": [],
   "source": [
    "answer('1.1.6')"
   ]
  },
  {
   "cell_type": "markdown",
   "metadata": {},
   "source": [
    "### 配送センターの配置(ウェーバー問題)\n",
    "下記の10店舗への総移動距離が最小となる座標を求めよ\n",
    "\n",
    "店舗|x|y|$~~~$|店舗|x|y\n",
    ":--|--:|--:||:--|--:|--:\n",
    "A|2|5||B|0|0\n",
    "C|1|3||D|6|0\n",
    "E|5|5||F|5.5|4\n",
    "G|4|4.5||H|5|3.5\n",
    "I|4.5|4||J|5.5|1.5"
   ]
  },
  {
   "cell_type": "code",
   "execution_count": null,
   "metadata": {
    "collapsed": false
   },
   "outputs": [],
   "source": [
    "a = pd.DataFrame(OrderedDict([\n",
    "        ('x', [2, 0, 1, 6, 5, 5.5, 4, 5, 4.5, 5.5]),\n",
    "        ('y', [5, 0, 3, 0, 5, 4, 4.5, 3.5, 4, 1.5]),\n",
    "    ]), index=list('ABCDEFGHIJ'))\n",
    "a.T"
   ]
  },
  {
   "cell_type": "code",
   "execution_count": null,
   "metadata": {
    "collapsed": false
   },
   "outputs": [],
   "source": [
    "def func(xy):\n",
    "    return np.sqrt((a.x - xy[0])**2 + (a.y - xy[1])**2).sum()\n",
    "minimize(func, (0, 0))"
   ]
  },
  {
   "cell_type": "markdown",
   "metadata": {},
   "source": [
    "### 配送センターの配置(最小包囲円問題)\n",
    "10店舗への移動距離の最大が最小となる座標を求めよ\n",
    "\n",
    "参考: プログラミングコンテストチャレンジブック"
   ]
  },
  {
   "cell_type": "code",
   "execution_count": null,
   "metadata": {
    "collapsed": false
   },
   "outputs": [],
   "source": [
    "def func(xy):\n",
    "    return np.sqrt((a.x - xy[0])**2 + (a.y - xy[1])**2).max()\n",
    "minimize(func, (0, 0))"
   ]
  }
 ],
 "metadata": {
  "anaconda-cloud": {},
  "kernelspec": {
   "display_name": "Python [Root]",
   "language": "python",
   "name": "Python [Root]"
  },
  "language_info": {
   "codemirror_mode": {
    "name": "ipython",
    "version": 3
   },
   "file_extension": ".py",
   "mimetype": "text/x-python",
   "name": "python",
   "nbconvert_exporter": "python",
   "pygments_lexer": "ipython3",
   "version": "3.5.2"
  },
  "nav_menu": {},
  "toc": {
   "navigate_menu": true,
   "number_sections": true,
   "sideBar": true,
   "threshold": 6,
   "toc_cell": false,
   "toc_section_display": "block",
   "toc_window_display": false
  }
 },
 "nbformat": 4,
 "nbformat_minor": 0
}
