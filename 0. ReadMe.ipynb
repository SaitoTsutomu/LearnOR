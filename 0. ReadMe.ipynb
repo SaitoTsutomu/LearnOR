{
 "cells": [
  {
   "cell_type": "markdown",
   "metadata": {},
   "source": [
    "# はじめに\n",
    "『[Excelで学ぶOR](https://www.amazon.co.jp/dp/4274068528)』をjupyter上で演習する\n",
    "\n",
    "## 流れ\n",
    "- 概要紹介、Pulp演習、最初の演習\n",
    "- 演習繰り返し\n",
    "\n",
    "---"
   ]
  },
  {
   "cell_type": "markdown",
   "metadata": {},
   "source": [
    "# Pulp演習\n",
    "\n",
    "## ナップサック問題\n",
    "### 定式化\n",
    "|最大化|$\\sum_i{w_i v_i}$|\n",
    "|:--|:--|\n",
    "|制約条件|$\\sum_i{s_i v_i} <= C$|\n",
    "|変数|$v_i \\in \\{0, 1\\} \\forall i$|\n",
    "\n",
    "### 準備\n",
    "- 必要なパッケージのimportとパラメータの設定"
   ]
  },
  {
   "cell_type": "code",
   "execution_count": null,
   "metadata": {
    "collapsed": false,
    "scrolled": false
   },
   "outputs": [],
   "source": [
    "import pandas as pd\n",
    "from pulp import *\n",
    "from ortoolpy import addvars\n",
    "w = [3,2,4,1]\n",
    "s = [4,2,3,3]\n",
    "C = 10"
   ]
  },
  {
   "cell_type": "markdown",
   "metadata": {
    "collapsed": true
   },
   "source": [
    "### 数理モデルの作成\n",
    "- 名前は m とする\n",
    "- 数理モデルは、LpProblemを使う\n",
    "- 最大化は、sense=LpMaximizeとする\n",
    "- 最小化は、指定しなくてよい"
   ]
  },
  {
   "cell_type": "code",
   "execution_count": null,
   "metadata": {
    "collapsed": false
   },
   "outputs": [],
   "source": [
    "m = LpProblem(sense=LpMaximize)"
   ]
  },
  {
   "cell_type": "markdown",
   "metadata": {},
   "source": [
    "### 変数表の作成\n",
    "- 名前は a とする\n",
    "- 下記のような、pandasのDataFrameを作成する\n",
    "  - pd.DataFrame(キー＝列名、値＝列の辞書)で作成できる\n",
    "- 0-1変数の配列は、addvars(サイズ, cat=LpBinary)で作成できる\n",
    "\n",
    "|w|s|v\n",
    "--:|--:|--:|:--\n",
    "0|3|4|v1\n",
    "1|2|2|v2\n",
    "2|4|3|v3\n",
    "3|1|3|v4"
   ]
  },
  {
   "cell_type": "code",
   "execution_count": null,
   "metadata": {
    "collapsed": false
   },
   "outputs": [],
   "source": [
    "a = pd.DataFrame({'w':w, 's':s, 'x':addvars(len(w), cat=LpBinary)})\n",
    "a"
   ]
  },
  {
   "cell_type": "markdown",
   "metadata": {},
   "source": [
    "### 目的関数の設定\n",
    "- m += 目的関数 として設定できる\n",
    "- lpDotで内積になる\n",
    "- lpSumで和になる"
   ]
  },
  {
   "cell_type": "code",
   "execution_count": null,
   "metadata": {
    "collapsed": false
   },
   "outputs": [],
   "source": [
    "m += lpDot(a.w, a.x)"
   ]
  },
  {
   "cell_type": "markdown",
   "metadata": {},
   "source": [
    "### 制約条件の設定\n",
    "- m += 制約式 として設定できる"
   ]
  },
  {
   "cell_type": "code",
   "execution_count": null,
   "metadata": {
    "collapsed": true
   },
   "outputs": [],
   "source": [
    "m += lpDot(a.s, a.x) <= C"
   ]
  },
  {
   "cell_type": "markdown",
   "metadata": {},
   "source": [
    "### 求解\n",
    "- m.solve()で求解できる\n",
    "- 最適解が得られると 1 (=LpStatusOptimal)が返る"
   ]
  },
  {
   "cell_type": "code",
   "execution_count": null,
   "metadata": {
    "collapsed": false
   },
   "outputs": [],
   "source": [
    "m.solve()"
   ]
  },
  {
   "cell_type": "markdown",
   "metadata": {},
   "source": [
    "### 結果確認\n",
    "- a['r'] = a.x.apply(value) で結果を列 r に入れることができる"
   ]
  },
  {
   "cell_type": "code",
   "execution_count": null,
   "metadata": {
    "collapsed": false
   },
   "outputs": [],
   "source": [
    "a['r'] = a.x.apply(value)\n",
    "a"
   ]
  },
  {
   "cell_type": "markdown",
   "metadata": {},
   "source": [
    "以上"
   ]
  }
 ],
 "metadata": {
  "anaconda-cloud": {},
  "kernelspec": {
   "display_name": "Python [Root]",
   "language": "python",
   "name": "Python [Root]"
  },
  "language_info": {
   "codemirror_mode": {
    "name": "ipython",
    "version": 3
   },
   "file_extension": ".py",
   "mimetype": "text/x-python",
   "name": "python",
   "nbconvert_exporter": "python",
   "pygments_lexer": "ipython3",
   "version": "3.5.2"
  },
  "nav_menu": {},
  "toc": {
   "navigate_menu": true,
   "number_sections": true,
   "sideBar": true,
   "threshold": 6,
   "toc_cell": false,
   "toc_section_display": "block",
   "toc_window_display": false
  }
 },
 "nbformat": 4,
 "nbformat_minor": 0
}
